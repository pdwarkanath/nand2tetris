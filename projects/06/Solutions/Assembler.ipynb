{
 "cells": [
  {
   "cell_type": "markdown",
   "metadata": {},
   "source": [
    "0. Read in all json files. Done.\n",
    "\n",
    "First pass:\n",
    "1. Read asm file. Done.\n",
    "2. Remove whitespace. Done.\n",
    "3. Remove comments. Done.\n",
    "4. Find label symbols and add line number to table. Done.\n",
    "\n",
    "Second pass:\n",
    "1. Translate each line to binary instructions. Done.\n",
    "2. After every 10 lines, write to file and clear string. Done.\n",
    "\n",
    "Helper functions:\n",
    "1. Read c-instruction. Done.\n",
    "2. variable symbols. Done.\n",
    "3. read a-instruction. Done."
   ]
  },
  {
   "cell_type": "code",
   "execution_count": 1,
   "metadata": {},
   "outputs": [],
   "source": [
    "import json\n",
    "import re\n",
    "import os"
   ]
  },
  {
   "cell_type": "code",
   "execution_count": 10,
   "metadata": {},
   "outputs": [],
   "source": [
    "with open('symbol_table.json') as f:\n",
    "    symbol_table = json.load(f)\n",
    "with open('c_instructions.json') as f:\n",
    "    c_instructions = json.load(f)\n",
    "with open('d_table.json') as f:\n",
    "    d_table = json.load(f)\n",
    "with open('j_table.json') as f:\n",
    "    j_table = json.load(f)"
   ]
  },
  {
   "cell_type": "code",
   "execution_count": 3,
   "metadata": {},
   "outputs": [],
   "source": [
    "def first_pass(f):\n",
    "    line_number = 0\n",
    "    for line in f:\n",
    "        line = re.sub('\\s+', '', line) # remove whitespace\n",
    "        line = re.sub('\\/\\/.*', '', line) # remove comments\n",
    "        if len(line) > 0:\n",
    "            if line[0] == '(':\n",
    "                if line[1:-1] not in symbol_table:\n",
    "                    symbol_table[line[1:-1]] = line_number\n",
    "            else:\n",
    "                line_number += 1"
   ]
  },
  {
   "cell_type": "code",
   "execution_count": 4,
   "metadata": {},
   "outputs": [
    {
     "data": {
      "text/plain": [
       "{'0': '000',\n",
       " 'M': '001',\n",
       " 'D': '010',\n",
       " 'DM': '011',\n",
       " 'A': '100',\n",
       " 'AM': '101',\n",
       " 'AD': '110',\n",
       " 'ADM': '111'}"
      ]
     },
     "execution_count": 4,
     "metadata": {},
     "output_type": "execute_result"
    }
   ],
   "source": [
    "d_table"
   ]
  },
  {
   "cell_type": "code",
   "execution_count": 36,
   "metadata": {},
   "outputs": [],
   "source": [
    "asm_file = 'Add.asm'"
   ]
  },
  {
   "cell_type": "code",
   "execution_count": 38,
   "metadata": {},
   "outputs": [],
   "source": [
    "with open(asm_file) as f:\n",
    "    first_pass(f)"
   ]
  },
  {
   "cell_type": "code",
   "execution_count": 40,
   "metadata": {},
   "outputs": [],
   "source": [
    "curr_addr = 16"
   ]
  },
  {
   "cell_type": "code",
   "execution_count": 51,
   "metadata": {},
   "outputs": [],
   "source": [
    "def read_a_instruction(line):\n",
    "    addr = line[1:]\n",
    "    try:\n",
    "        a = int(addr)\n",
    "    except ValueError:\n",
    "        if addr not in symbol_table:\n",
    "            global curr_addr\n",
    "            symbol_table[addr] = curr_addr\n",
    "            curr_addr += 1\n",
    "        a = symbol_table[addr]\n",
    "    return f'{int(bin(a)[2:]):016d}\\n'"
   ]
  },
  {
   "cell_type": "code",
   "execution_count": 42,
   "metadata": {},
   "outputs": [],
   "source": [
    "def read_c_instruction(line):\n",
    "    c_instr = line.split(';')\n",
    "    if len(c_instr) > 1:\n",
    "        j = c_instr[1]\n",
    "    else:\n",
    "        j = '0'\n",
    "    \n",
    "    c_instr = c_instr[0].split('=')\n",
    "    if len(c_instr) > 1:\n",
    "        d = ''.join(sorted(c_instr[0]))\n",
    "        c = c_instr[1]\n",
    "    else:\n",
    "        d = '0'\n",
    "        c = c_instr[0]\n",
    "    \n",
    "    return '111' + c_instructions[c]['a'] + c_instructions[c]['c'] + d_table[d] + j_table[j] + '\\n'"
   ]
  },
  {
   "cell_type": "code",
   "execution_count": 52,
   "metadata": {},
   "outputs": [],
   "source": [
    "def second_pass(f):\n",
    "    hack_file = asm_file[:-4] + '.hack'\n",
    "    if os.path.exists(hack_file):\n",
    "        os.remove(hack_file)\n",
    "    line_number = 0\n",
    "    instr = ''\n",
    "    for line in f:\n",
    "        line = re.sub('\\s+', '', line) # remove whitespace\n",
    "        line = re.sub('\\/\\/.*', '', line) # remove comments\n",
    "        if len(line) > 0:\n",
    "            if line[0] == '(':\n",
    "                continue\n",
    "            elif line[0] == '@':\n",
    "                instr += read_a_instruction(line)\n",
    "                line_number += 1\n",
    "            else:\n",
    "                instr += read_c_instruction(line)\n",
    "                line_number += 1\n",
    "            if line_number == 10:\n",
    "                line_number = 0\n",
    "                with open(hack_file, 'a+') as h:\n",
    "                    h.write(instr)\n",
    "                instr = ''\n",
    "    with open(hack_file, 'a+') as h:\n",
    "        h.write(instr)"
   ]
  },
  {
   "cell_type": "code",
   "execution_count": 58,
   "metadata": {},
   "outputs": [],
   "source": [
    "with open(asm_file) as f:\n",
    "    second_pass(f)"
   ]
  },
  {
   "cell_type": "code",
   "execution_count": 12,
   "metadata": {},
   "outputs": [
    {
     "data": {
      "text/plain": [
       "'+DM'"
      ]
     },
     "execution_count": 12,
     "metadata": {},
     "output_type": "execute_result"
    }
   ],
   "source": []
  },
  {
   "cell_type": "code",
   "execution_count": null,
   "metadata": {},
   "outputs": [],
   "source": []
  }
 ],
 "metadata": {
  "kernelspec": {
   "display_name": "Python 3",
   "language": "python",
   "name": "python3"
  },
  "language_info": {
   "codemirror_mode": {
    "name": "ipython",
    "version": 3
   },
   "file_extension": ".py",
   "mimetype": "text/x-python",
   "name": "python",
   "nbconvert_exporter": "python",
   "pygments_lexer": "ipython3",
   "version": "3.7.4"
  }
 },
 "nbformat": 4,
 "nbformat_minor": 2
}
