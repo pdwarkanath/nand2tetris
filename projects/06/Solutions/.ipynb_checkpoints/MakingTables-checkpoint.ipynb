{
 "cells": [
  {
   "cell_type": "markdown",
   "metadata": {},
   "source": [
    "Pre-work\n",
    "1. Make symbol table json and import\n",
    "2. Make a, c table\n",
    "3. Make d table\n",
    "4. Make j table"
   ]
  },
  {
   "cell_type": "code",
   "execution_count": 1,
   "metadata": {},
   "outputs": [],
   "source": [
    "import json\n",
    "import pandas as pd"
   ]
  },
  {
   "cell_type": "code",
   "execution_count": 2,
   "metadata": {},
   "outputs": [],
   "source": [
    "symbol_table = {}"
   ]
  },
  {
   "cell_type": "code",
   "execution_count": 3,
   "metadata": {},
   "outputs": [],
   "source": [
    "for i in range(16):\n",
    "    symbol_table[f'R{i}'] = i"
   ]
  },
  {
   "cell_type": "code",
   "execution_count": 4,
   "metadata": {},
   "outputs": [],
   "source": [
    "symbol_table['SCREEN'] = 16384\n",
    "symbol_table['KBD'] = 24576\n",
    "symbol_table['SP'] = 0\n",
    "symbol_table['LCL'] = 1\n",
    "symbol_table['ARG'] = 2\n",
    "symbol_table['THIS'] = 3\n",
    "symbol_table['THAT'] = 4"
   ]
  },
  {
   "cell_type": "code",
   "execution_count": 5,
   "metadata": {},
   "outputs": [],
   "source": [
    "def read_a_instruction(a):\n",
    "    return f'{int(bin(a)[2:]):016d}'"
   ]
  },
  {
   "cell_type": "code",
   "execution_count": 6,
   "metadata": {},
   "outputs": [],
   "source": [
    "with open('symbol_table.json', 'w+') as f:\n",
    "    json.dump(symbol_table, f)"
   ]
  },
  {
   "cell_type": "code",
   "execution_count": 7,
   "metadata": {},
   "outputs": [],
   "source": [
    "ctable = pd.read_csv('ctable.csv')"
   ]
  },
  {
   "cell_type": "code",
   "execution_count": 8,
   "metadata": {},
   "outputs": [],
   "source": [
    "ctable['c'] = ctable['c1'] + ctable['c2'] + ctable['c3'] + ctable['c4'] + ctable['c5'] + ctable['c6']"
   ]
  },
  {
   "cell_type": "code",
   "execution_count": 9,
   "metadata": {},
   "outputs": [],
   "source": [
    "c_instructions = {}"
   ]
  },
  {
   "cell_type": "code",
   "execution_count": 10,
   "metadata": {},
   "outputs": [],
   "source": [
    "c_columns = ctable.columns[2:]\n",
    "for i in ctable.index:\n",
    "    symbolic_instruction = ctable.loc[i, 'a0']\n",
    "    c_instructions[symbolic_instruction] = {}\n",
    "    a = '0'\n",
    "    c = ''\n",
    "    for col in c_columns:\n",
    "        c += str(ctable.loc[i, col])\n",
    "    c_instructions[symbolic_instruction]['a'] = a\n",
    "    c_instructions[symbolic_instruction]['c'] = c"
   ]
  },
  {
   "cell_type": "code",
   "execution_count": 11,
   "metadata": {},
   "outputs": [],
   "source": [
    "for i in ctable.index:\n",
    "    if not pd.isna(ctable.loc[i, 'a1']):\n",
    "        symbolic_instruction = ctable.loc[i, 'a1']\n",
    "        c_instructions[symbolic_instruction] = {}\n",
    "        a = '1'\n",
    "        c = ''\n",
    "        for col in c_columns:\n",
    "            c += str(ctable.loc[i, col])\n",
    "        c_instructions[symbolic_instruction]['a'] = a\n",
    "        c_instructions[symbolic_instruction]['c'] = c"
   ]
  },
  {
   "cell_type": "code",
   "execution_count": 12,
   "metadata": {},
   "outputs": [],
   "source": [
    "with open('c_instructions.json', 'w+') as f:\n",
    "    json.dump(c_instructions, f)"
   ]
  },
  {
   "cell_type": "code",
   "execution_count": 14,
   "metadata": {},
   "outputs": [],
   "source": [
    "d_table = {}"
   ]
  },
  {
   "cell_type": "code",
   "execution_count": 15,
   "metadata": {},
   "outputs": [],
   "source": [
    "d_table['0'] = '000'\n",
    "d_table['M'] = '001'\n",
    "d_table['D'] = '010'\n",
    "d_table['DM'] = '011'\n",
    "d_table['A'] = '100'\n",
    "d_table['AM'] = '101'\n",
    "d_table['AD'] = '110'\n",
    "d_table['ADM'] = '111'"
   ]
  },
  {
   "cell_type": "code",
   "execution_count": 17,
   "metadata": {},
   "outputs": [],
   "source": [
    "with open('d_table.json', 'w+') as f:\n",
    "    json.dump(d_table, f)"
   ]
  },
  {
   "cell_type": "code",
   "execution_count": 18,
   "metadata": {},
   "outputs": [],
   "source": [
    "j_table = {}"
   ]
  },
  {
   "cell_type": "code",
   "execution_count": 19,
   "metadata": {},
   "outputs": [],
   "source": [
    "j_table['0'] = '000'\n",
    "j_table['JGT'] = '001'\n",
    "j_table['JEQ'] = '010'\n",
    "j_table['JGE'] = '011'\n",
    "j_table['JLT'] = '100'\n",
    "j_table['JNE'] = '101'\n",
    "j_table['JLE'] = '110'\n",
    "j_table['JMP'] = '111'"
   ]
  },
  {
   "cell_type": "code",
   "execution_count": 20,
   "metadata": {},
   "outputs": [],
   "source": [
    "with open('j_table.json', 'w+') as f:\n",
    "    json.dump(j_table, f)"
   ]
  },
  {
   "cell_type": "code",
   "execution_count": null,
   "metadata": {},
   "outputs": [],
   "source": []
  }
 ],
 "metadata": {
  "kernelspec": {
   "display_name": "Python 3",
   "language": "python",
   "name": "python3"
  },
  "language_info": {
   "codemirror_mode": {
    "name": "ipython",
    "version": 3
   },
   "file_extension": ".py",
   "mimetype": "text/x-python",
   "name": "python",
   "nbconvert_exporter": "python",
   "pygments_lexer": "ipython3",
   "version": "3.7.4"
  }
 },
 "nbformat": 4,
 "nbformat_minor": 2
}
